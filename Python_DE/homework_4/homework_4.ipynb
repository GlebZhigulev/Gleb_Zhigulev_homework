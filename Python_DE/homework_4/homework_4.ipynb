{
 "cells": [
  {
   "cell_type": "markdown",
   "id": "c6402099",
   "metadata": {},
   "source": [
    "# Задание №1\n",
    "\n",
    "### Напишите функцию, которая принимает на вход строку и проверяет, является ли она валидным транспортным номером (1 буква, 3 цифры, 2 буквы, 2–3 цифры). Обратите внимание, что не все буквы кириллического алфавита используются в транспортных номерах.\n",
    "### Если номер валиден, то функция должна возвращать отдельно номер и регион.\n",
    "\n",
    "#### Примеры работы программы:\n",
    "#### car_id = 'А222BС96'\n",
    "#### Результат: Номер А222BС валиден. Регион: 96.\n",
    "\n",
    "#### car_id = 'АБ22ВВ193'\n",
    "#### Результат: Номер не валиден."
   ]
  },
  {
   "cell_type": "code",
   "execution_count": 6,
   "id": "3b5e0180",
   "metadata": {},
   "outputs": [],
   "source": [
    "import re"
   ]
  },
  {
   "cell_type": "code",
   "execution_count": 7,
   "id": "8d4bf3ce",
   "metadata": {},
   "outputs": [
    {
     "name": "stdout",
     "output_type": "stream",
     "text": [
      "Номер А222ВС валиден. Регион: 96.\n",
      "Номер не валиден\n"
     ]
    }
   ],
   "source": [
    "car_id_v1 = 'А222ВС96'\n",
    "car_id_v2 = 'АБ22ВВ193'\n",
    "\n",
    "def check_number(car_id):\n",
    "    pattern = r'^([АВЕКМНОРСТУХ]\\d{3}[АВЕКМНОРСТУХ]{2})(\\d{2,3})$'\n",
    "    match = re.fullmatch(pattern, car_id)\n",
    "    if match:\n",
    "        number, region = match.groups()\n",
    "        return f'Номер {number} валиден. Регион: {region}.'\n",
    "    else:\n",
    "        return f'Номер не валиден'\n",
    "    \n",
    "print(check_number(car_id_v1))\n",
    "print(check_number(car_id_v2))"
   ]
  }
 ],
 "metadata": {
  "kernelspec": {
   "display_name": "base",
   "language": "python",
   "name": "python3"
  },
  "language_info": {
   "codemirror_mode": {
    "name": "ipython",
    "version": 3
   },
   "file_extension": ".py",
   "mimetype": "text/x-python",
   "name": "python",
   "nbconvert_exporter": "python",
   "pygments_lexer": "ipython3",
   "version": "3.13.5"
  }
 },
 "nbformat": 4,
 "nbformat_minor": 5
}
