{
 "cells": [
  {
   "cell_type": "markdown",
   "id": "13b4f476-209e-45d0-913b-aa2f0e2bfb8b",
   "metadata": {},
   "source": [
    "Задание 1\n",
    "Печатные газеты использовали свой формат дат для каждого выпуска. Для каждой газеты из списка напишите формат указанной даты для перевода в объект datetime:\n",
    "The Moscow Times - Wednesday, October 2, 2002\n",
    "The Guardian - Friday, 11.10.13\n",
    "Daily News - Thursday, 18 August 1977\n",
    "Пример работы программы\n",
    "Программа должна выводить на экран объекты типа datetime, соответствующие датам в условии задачи"
   ]
  },
  {
   "cell_type": "code",
   "execution_count": 3,
   "id": "c604b45f-7930-4eea-b7ad-834c47e44ccc",
   "metadata": {},
   "outputs": [],
   "source": [
    "from datetime import datetime"
   ]
  },
  {
   "cell_type": "code",
   "execution_count": 4,
   "id": "e6dae26f-350f-4d34-894c-7f4fd0f71bc6",
   "metadata": {},
   "outputs": [
    {
     "name": "stdout",
     "output_type": "stream",
     "text": [
      "2002-10-02 00:00:00\n",
      "2013-10-11 00:00:00\n",
      "1977-08-18 00:00:00\n"
     ]
    }
   ],
   "source": [
    "moscow_times = 'Wednesday, October 2, 2002'\n",
    "guardian = 'Friday, 11.10.13'\n",
    "daily_news = 'Thursday, 18 August 1977'\n",
    "\n",
    "moscow_dt = datetime.strptime(moscow_times, '%A, %B %d, %Y')\n",
    "guardian_dt = datetime.strptime(guardian, '%A, %d.%m.%y')\n",
    "daily_dt = datetime.strptime(daily_news, '%A, %d %B %Y')\n",
    "\n",
    "print(moscow_dt)\n",
    "print(guardian_dt)\n",
    "print(daily_dt)"
   ]
  },
  {
   "cell_type": "markdown",
   "id": "3d207486-d3f6-45b7-8a09-a08cbc5d1a4d",
   "metadata": {},
   "source": [
    "Задание 2\n",
    "Напишите функцию date_range, которая возвращает список дат за период от start_date до end_date. Даты должны вводиться в формате YYYY-MM-DD. В случае неверного формата или при start_date > end_date должен возвращаться пустой список.\n",
    "\n",
    "Примеры работы программы:\n",
    "date_range(‘2022-01-01’, ‘2022-01-03’)\n",
    "[‘2022-01-01’, ‘2022-01-02’, ‘2022-01-03’]\n"
   ]
  },
  {
   "cell_type": "code",
   "execution_count": 5,
   "id": "e5f67c2f-dd77-41e1-8e9e-c147fd1e8dd1",
   "metadata": {},
   "outputs": [],
   "source": [
    "from datetime import timedelta\n",
    "def date_range(start_date, end_date):\n",
    "    try:\n",
    "        start_date_dt = datetime.strptime(start_date, '%Y-%m-%d')\n",
    "        end_date_dt = datetime.strptime(end_date, '%Y-%m-%d')\n",
    "    except ValueError:\n",
    "        return []\n",
    "    if start_date_dt > end_date_dt:\n",
    "        return []\n",
    "    current_date = start_date_dt\n",
    "    date_list = []\n",
    "    while current_date <= end_date_dt:\n",
    "        date_list.append(current_date.strftime('%Y-%m-%d'))\n",
    "        current_date += timedelta(days=1)\n",
    "    return date_list"
   ]
  },
  {
   "cell_type": "code",
   "execution_count": 6,
   "id": "07ced508-154f-42f4-865b-e64ffdd493b2",
   "metadata": {},
   "outputs": [
    {
     "data": {
      "text/plain": [
       "['2022-01-01', '2022-01-02', '2022-01-03']"
      ]
     },
     "execution_count": 6,
     "metadata": {},
     "output_type": "execute_result"
    }
   ],
   "source": [
    "date_range('2022-01-01', '2022-01-03')\n"
   ]
  },
  {
   "cell_type": "code",
   "execution_count": null,
   "id": "86003fbb-f6e7-46ef-b6d1-eba2495b1b55",
   "metadata": {},
   "outputs": [],
   "source": []
  }
 ],
 "metadata": {
  "kernelspec": {
   "display_name": "Python 3 (ipykernel)",
   "language": "python",
   "name": "python3"
  },
  "language_info": {
   "codemirror_mode": {
    "name": "ipython",
    "version": 3
   },
   "file_extension": ".py",
   "mimetype": "text/x-python",
   "name": "python",
   "nbconvert_exporter": "python",
   "pygments_lexer": "ipython3",
   "version": "3.13.5"
  }
 },
 "nbformat": 4,
 "nbformat_minor": 5
}
