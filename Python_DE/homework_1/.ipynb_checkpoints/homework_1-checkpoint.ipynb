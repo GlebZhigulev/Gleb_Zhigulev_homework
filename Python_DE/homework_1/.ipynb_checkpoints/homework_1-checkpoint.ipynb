{
 "cells": [
  {
   "cell_type": "markdown",
   "id": "32394b03-27a1-47ee-8f68-cd2585999461",
   "metadata": {},
   "source": [
    "Домашнее задание №1\n",
    "Задание №1\n",
    "Переведите содержимое файла purchase_log.txt в словарь purchases вида:\n",
    "{'1840e0b9d4': 'Продукты', ...}\n",
    "Пример работы программы при выводе первых двух элементов словаря purchases:\n",
    "1840e0b9d4 ‘Продукты‘\n",
    "4e4f90fcfb  ‘Электроника‘"
   ]
  },
  {
   "cell_type": "code",
   "execution_count": 2,
   "id": "bec0014b-b485-4055-b7ce-824e3597b238",
   "metadata": {},
   "outputs": [],
   "source": [
    "import json"
   ]
  },
  {
   "cell_type": "code",
   "execution_count": 3,
   "id": "858dbabb-87dd-4ef6-83b7-cd9672b77db9",
   "metadata": {},
   "outputs": [
    {
     "name": "stdout",
     "output_type": "stream",
     "text": [
      "1840e0b9d4 'Продукты'\n",
      "4e4f90fcfb 'Электроника'\n",
      "afea8d72fc 'Электроника'\n",
      "373a6055fe 'Бытовая техника'\n",
      "9b2ab046f3 'Электроника'\n"
     ]
    }
   ],
   "source": [
    "purchases = {}\n",
    "\n",
    "with open('purchase_log.txt', 'r', encoding='utf-8') as file:\n",
    "    next(file) \n",
    "    for line in file:\n",
    "        record = json.loads(line)\n",
    "        purchases[record['user_id']] = record['category']\n",
    "\n",
    "for user_id, category in list(purchases.items())[:5]:\n",
    "    print(f\"{user_id} '{category}'\")"
   ]
  },
  {
   "cell_type": "markdown",
   "id": "829a6979-7527-408b-ae2c-8256f777312f",
   "metadata": {},
   "source": [
    "Задание №2\n",
    "Для каждого user_id в файле visit_log.csv определите третий столбец с категорией покупки. Если покупка была, сам файл visit_log.csv изменять не надо.\n",
    "Запишите в файл funnel.csv визиты из файла visit_log.csv, в которых были покупки с указанием категории.\n",
    "Учтите условия для данных:\n",
    "●\tсодержимое purchase_log.txt помещается в оперативную память компьютера;\n",
    "●\tсодержимое visit_log.csv — нет, используйте только построчную обработку этого файла."
   ]
  },
  {
   "cell_type": "code",
   "execution_count": 10,
   "id": "be33d617-8784-46c1-bc0a-78e7ade806ef",
   "metadata": {},
   "outputs": [],
   "source": [
    "import csv"
   ]
  },
  {
   "cell_type": "code",
   "execution_count": 14,
   "id": "52ee5c8d-be31-43d7-b1e3-76e070836c05",
   "metadata": {},
   "outputs": [],
   "source": [
    "with open('visit_log.csv', encoding='utf-8') as file_1, \\\n",
    "     open('funnel.csv', 'w', newline='', encoding='utf-8') as file_2:\n",
    "\n",
    "    csvfile = csv.reader(file_1, delimiter=',')\n",
    "    next(csvfile, None) \n",
    "\n",
    "    writer = csv.writer(file_2)\n",
    "    writer.writerow(['user_id', 'source', 'category'])  \n",
    "\n",
    "    for row in csvfile:\n",
    "        user_id, source = row\n",
    "        category = purchases.get(user_id)\n",
    "        if category:\n",
    "            writer.writerow([user_id, source, category])"
   ]
  }
 ],
 "metadata": {
  "kernelspec": {
   "display_name": "Python 3 (ipykernel)",
   "language": "python",
   "name": "python3"
  },
  "language_info": {
   "codemirror_mode": {
    "name": "ipython",
    "version": 3
   },
   "file_extension": ".py",
   "mimetype": "text/x-python",
   "name": "python",
   "nbconvert_exporter": "python",
   "pygments_lexer": "ipython3",
   "version": "3.13.5"
  }
 },
 "nbformat": 4,
 "nbformat_minor": 5
}
